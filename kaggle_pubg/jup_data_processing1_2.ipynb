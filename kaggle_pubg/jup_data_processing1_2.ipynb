{
 "cells": [
  {
   "cell_type": "markdown",
   "metadata": {},
   "source": [
    "### PUBG Kaggle competition\n",
    "Goal of the competition is to predict which player has the highest number of points at the end of the game.\n",
    "Features include for example the distance walked or driven in a vehicle in the game, number of kills, ... "
   ]
  },
  {
   "cell_type": "code",
   "execution_count": 18,
   "metadata": {},
   "outputs": [
    {
     "name": "stdout",
     "output_type": "stream",
     "text": [
      "Lib import check positive ++.\n"
     ]
    }
   ],
   "source": [
    "#!/usr/bin/python\n",
    "import pandas as pd\n",
    "import numpy as np\n",
    "import seaborn as sns\n",
    "import matplotlib.pyplot as plt\n",
    "sns.set(color_codes=True)\n",
    "\n",
    "#import standard ML libs\n",
    "from sklearn.preprocessing import Imputer\n",
    "from sklearn.preprocessing import MinMaxScaler\n",
    "from sklearn.linear_model import LinearRegression\n",
    "from sklearn.model_selection import GridSearchCV\n",
    "from sklearn.pipeline import Pipeline\n",
    "from sklearn.metrics import mean_squared_error\n",
    "from sklearn.model_selection import train_test_split\n",
    "from sklearn import metrics\n",
    "print('Lib import check positive ++.')"
   ]
  },
  {
   "cell_type": "code",
   "execution_count": 19,
   "metadata": {},
   "outputs": [
    {
     "name": "stdout",
     "output_type": "stream",
     "text": [
      "(48000, 28)\n",
      "Wall time: 2.41 s\n"
     ]
    }
   ],
   "source": [
    "%%time\n",
    "df = pd.read_csv('all/test_V2_short.csv',\n",
    "                 dtype={'Id': object,'groupId':object,'matchId':object,'matchType':object},index_col=None)\n",
    "#keep a holdout test set:\n",
    "test_df = df.iloc[0:2000,:]\n",
    "\n",
    "short = True\n",
    "if short:\n",
    "    df = df.iloc[2000:50000,:]\n",
    "else:\n",
    "    pass\n",
    "print(df.shape)\n",
    "\n"
   ]
  },
  {
   "cell_type": "markdown",
   "metadata": {},
   "source": [
    "Have a look at all the data points available:"
   ]
  },
  {
   "cell_type": "code",
   "execution_count": 20,
   "metadata": {},
   "outputs": [
    {
     "name": "stdout",
     "output_type": "stream",
     "text": [
      "Id                 44002\n",
      "walkDistance       44002\n",
      "vehicleDestroys    44002\n",
      "teamKills          44002\n",
      "swimDistance       44002\n",
      "roadKills          44002\n",
      "rideDistance       44002\n",
      "revives            44002\n",
      "rankPoints         44002\n",
      "numGroups          44002\n",
      "maxPlace           44002\n",
      "matchType          44002\n",
      "matchDuration      44002\n",
      "longestKill        44002\n",
      "killStreaks        44002\n",
      "kills              44002\n",
      "killPoints         44002\n",
      "killPlace          44002\n",
      "heals              44002\n",
      "headshotKills      44002\n",
      "DBNOs              44002\n",
      "damageDealt        44002\n",
      "boosts             44002\n",
      "assists            44002\n",
      "matchId            44002\n",
      "groupId            44002\n",
      "weaponsAcquired    44002\n",
      "winPoints          44002\n",
      "dtype: int64\n"
     ]
    }
   ],
   "source": [
    "null_cnt = df.isnull().sum().sort_values()\n",
    "print(null_cnt[null_cnt > 0])\n",
    "# dropna\n",
    "df.dropna(inplace=True)"
   ]
  },
  {
   "cell_type": "markdown",
   "metadata": {},
   "source": [
    "### EDA to get some first insights into the dataset"
   ]
  },
  {
   "cell_type": "code",
   "execution_count": 23,
   "metadata": {},
   "outputs": [
    {
     "data": {
      "text/plain": [
       "<matplotlib.axes._subplots.AxesSubplot at 0x1488cbf1e80>"
      ]
     },
     "execution_count": 23,
     "metadata": {},
     "output_type": "execute_result"
    },
    {
     "data": {
      "image/png": "[encoded data removed]",
      "text/plain": [
       "<Figure size 864x288 with 2 Axes>"
      ]
     },
     "metadata": {},
     "output_type": "display_data"
    }
   ],
   "source": [
    "fig, ax = plt.subplots(1, 2, figsize=(12, 4))\n",
    "\n",
    "df.groupby('matchId')['matchType'].first().value_counts().plot.bar(ax=ax[0])\n",
    "\n",
    "'''\n",
    "solo  <-- solo,solo-fpp,normal-solo,normal-solo-fpp\n",
    "duo   <-- duo,duo-fpp,normal-duo,normal-duo-fpp,crashfpp,crashtpp\n",
    "squad <-- squad,squad-fpp,normal-squad,normal-squad-fpp,flarefpp,flaretpp\n",
    "'''\n",
    "mapper = lambda x: 'solo' if ('solo' in x) else 'duo' if ('duo' in x) or ('crash' in x) else 'squad'\n",
    "df['matchType'] = df['matchType'].apply(mapper)\n",
    "df.groupby('matchId')['matchType'].first().value_counts().plot.bar(ax=ax[1])"
   ]
  },
  {
   "cell_type": "code",
   "execution_count": 5,
   "metadata": {},
   "outputs": [
    {
     "name": "stdout",
     "output_type": "stream",
     "text": [
      "                  Id         groupId         matchId  assists  boosts  \\\n",
      "2000  870b5d9e43d4b6  2f1eaab77fc3d6  c904fa42271814      0.0     0.0   \n",
      "2001  ded45cde31d75c  bd656bfec370d0  81ef96c15b1650      0.0     0.0   \n",
      "2002  2c724feed23f86  7814e86c4288f9  0b687fe4ec5a26      1.0     1.0   \n",
      "2003  074080dc8cbb37  c58903c5e0b873  a4828c9e5fcc00      1.0     4.0   \n",
      "2004  f045c1b056ad43  244b175c0fd3a2  7ec0fbcf0807ec      0.0     0.0   \n",
      "2005  c7643ac9ca3d03  9152d0e3890110  239dd1e592c106      0.0     0.0   \n",
      "2006  9c68660f7ee49b  8d839a63f506b8  9a5559192b7d73      0.0     3.0   \n",
      "2007  7b7dbc58bef2dc  63a65be14bd258  7619ccf998cdc7      1.0     3.0   \n",
      "2008  782548367ab1fd  076a693222fc14  831f7f596ada3b      0.0     0.0   \n",
      "2009  33005bc3c1b39d  4893d2546d21ec  23da6059bee1a9      0.0     0.0   \n",
      "2010  5be2fad17f7983  4d6931bb94df78  56ad0f6a023665      0.0     0.0   \n",
      "2011  0a4b7a1efc09d9  5ac83e02c6d036  fffa17f1f8b33c      0.0     0.0   \n",
      "2012  f52bc078f5154e  e22ebfb77705dd  1109d1dca155ac      0.0     0.0   \n",
      "2013  6cb7f7db1892fc  2095fb77b01da8  d5f68f9ab542e3      0.0     0.0   \n",
      "2014  abc0da97fd7b41  53b8bc5dc05879  77bfe20297b591      0.0     0.0   \n",
      "\n",
      "      damageDealt  DBNOs  headshotKills  heals  killPlace    ...      \\\n",
      "2000         0.00    0.0            0.0    0.0       81.0    ...       \n",
      "2001         0.00    0.0            0.0    0.0       96.0    ...       \n",
      "2002        95.39    1.0            1.0    4.0       32.0    ...       \n",
      "2003        50.52    0.0            0.0    2.0       61.0    ...       \n",
      "2004         0.00    0.0            0.0    0.0       97.0    ...       \n",
      "2005        73.51    0.0            0.0    0.0       65.0    ...       \n",
      "2006       288.30    1.0            0.0    1.0       20.0    ...       \n",
      "2007       419.10    2.0            0.0    1.0       15.0    ...       \n",
      "2008         0.00    0.0            0.0    0.0       62.0    ...       \n",
      "2009        90.40    0.0            0.0    0.0       62.0    ...       \n",
      "2010       115.00    0.0            0.0    0.0       52.0    ...       \n",
      "2011        58.76    0.0            0.0    0.0       77.0    ...       \n",
      "2012       100.00    1.0            0.0    0.0       64.0    ...       \n",
      "2013       123.10    1.0            0.0    0.0       71.0    ...       \n",
      "2014         0.00    0.0            0.0    0.0       90.0    ...       \n",
      "\n",
      "      rankPoints  revives  rideDistance  roadKills  swimDistance teamKills  \\\n",
      "2000      1557.0      0.0           0.0        0.0           0.0       0.0   \n",
      "2001        -1.0      0.0           0.0        0.0           0.0       0.0   \n",
      "2002      1468.0      0.0           0.0        0.0           0.0       0.0   \n",
      "2003      1596.0      1.0        3561.0        0.0           0.0       0.0   \n",
      "2004        -1.0      0.0           0.0        0.0           0.0       0.0   \n",
      "2005      1496.0      0.0           0.0        0.0           0.0       0.0   \n",
      "2006        -1.0      0.0        2121.0        0.0           0.0       0.0   \n",
      "2007      1523.0      0.0        2622.0        0.0           0.0       0.0   \n",
      "2008      1487.0      0.0           0.0        0.0           0.0       0.0   \n",
      "2009        -1.0      0.0           0.0        0.0           0.0       0.0   \n",
      "2010      1631.0      0.0           0.0        0.0           0.0       0.0   \n",
      "2011      1668.0      0.0           0.0        0.0           0.0       0.0   \n",
      "2012      1492.0      0.0           0.0        0.0           0.0       0.0   \n",
      "2013      1433.0      2.0           0.0        0.0           0.0       0.0   \n",
      "2014        -1.0      0.0           0.0        0.0           0.0       0.0   \n",
      "\n",
      "      vehicleDestroys  walkDistance  weaponsAcquired  winPoints  \n",
      "2000              0.0        42.650              0.0        0.0  \n",
      "2001              0.0         3.425              0.0     1504.0  \n",
      "2002              0.0       667.100              2.0        0.0  \n",
      "2003              0.0      1624.000              6.0        0.0  \n",
      "2004              0.0         6.191              1.0     1483.0  \n",
      "2005              0.0        37.880              1.0        0.0  \n",
      "2006              0.0      4336.000              5.0     1603.0  \n",
      "2007              0.0      1817.000              2.0        0.0  \n",
      "2008              0.0       317.400              3.0        0.0  \n",
      "2009              0.0      1082.000              4.0     1475.0  \n",
      "2010              0.0       780.800              4.0        0.0  \n",
      "2011              0.0       227.200              3.0        0.0  \n",
      "2012              0.0       489.500              4.0        0.0  \n",
      "2013              0.0       112.200              2.0        0.0  \n",
      "2014              0.0        56.230              2.0     1463.0  \n",
      "\n",
      "[15 rows x 28 columns]\n",
      "Wall time: 18.6 ms\n"
     ]
    }
   ],
   "source": [
    "%%time\n",
    "print(df.head(15))"
   ]
  },
  {
   "cell_type": "code",
   "execution_count": 26,
   "metadata": {},
   "outputs": [
    {
     "name": "stderr",
     "output_type": "stream",
     "text": [
      "C:\\Users\\Lorenz\\Anaconda3\\lib\\site-packages\\scipy\\stats\\stats.py:1713: FutureWarning: Using a non-tuple sequence for multidimensional indexing is deprecated; use `arr[tuple(seq)]` instead of `arr[seq]`. In the future this will be interpreted as an array index, `arr[np.array(seq)]`, which will result either in an error or a different result.\n",
      "  return np.add.reduce(sorted[indexer] * weights, axis=axis) / sumval\n"
     ]
    },
    {
     "data": {
      "image/png": "[encoded data removed]",
      "text/plain": [
       "<Figure size 864x288 with 1 Axes>"
      ]
     },
     "metadata": {},
     "output_type": "display_data"
    }
   ],
   "source": [
    "# Plot the distribution of longestKill\n",
    "plt.figure(figsize=(12,4))\n",
    "sns.distplot(df['longestKill'], bins=10)\n",
    "plt.show()"
   ]
  },
  {
   "cell_type": "markdown",
   "metadata": {},
   "source": [
    "--> **Might be Power Lognormal distribution**"
   ]
  },
  {
   "cell_type": "code",
   "execution_count": 131,
   "metadata": {},
   "outputs": [
    {
     "name": "stdout",
     "output_type": "stream",
     "text": [
      "Processed dataframe, split into X/Y.\n"
     ]
    }
   ],
   "source": [
    "def process_dataframe(df):\n",
    "    #drop the non-numeric columns for now:\n",
    "    try:\n",
    "        df = df.drop(columns=['Id','groupId','matchId','matchType'])\n",
    "    except:\n",
    "        pass\n",
    "        print('No columns to drop.')\n",
    "    df = df.fillna(df.mean())\n",
    "    df.replace([np.inf, -np.inf], np.nan).dropna(axis=1)\n",
    "    fill_NaN = Imputer(missing_values=np.nan, strategy='mean', axis=1)\n",
    "\n",
    "    X = df.drop(columns=['winPoints'],axis=1,inplace=False)\n",
    "    Y = df[['winPoints']]\n",
    "    X = pd.DataFrame(fill_NaN.fit_transform(X))\n",
    "    list_columns = list(df.columns)\n",
    "    del list_columns[-1]\n",
    "    X.columns = list_columns\n",
    "    X.index = df.index\n",
    "    print('Processed dataframe, split into X/Y.')\n",
    "    \n",
    "    scaler = MinMaxScaler()\n",
    "    X = scaler.fit_transform((X))\n",
    "    X = pd.DataFrame(X)\n",
    "    X.columns = list_columns\n",
    "    return X,Y\n",
    "X,Y = process_dataframe(df)"
   ]
  },
  {
   "cell_type": "code",
   "execution_count": 132,
   "metadata": {},
   "outputs": [],
   "source": [
    "def process_dataframe2(X):\n",
    "    #drop feature columns that do not contribute much:\n",
    "    list_drop_columns = ['headshotKills','teamKills','roadKills','vehicleDestroys']\n",
    "    try:\n",
    "        X = X.drop(['headshotKills','teamKills','roadKills','vehicleDestroys','rideDistance','swimDistance','matchDuration'], axis=1)\n",
    "    except:\n",
    "        pass\n",
    "        print('No columns to drop.')\n",
    "    return X\n",
    "X= process_dataframe2(X)"
   ]
  },
  {
   "cell_type": "code",
   "execution_count": 144,
   "metadata": {},
   "outputs": [
    {
     "name": "stdout",
     "output_type": "stream",
     "text": [
      "   killPlace\n",
      "0   0.808081\n",
      "1   0.959596\n",
      "2   0.313131\n",
      "3   0.606061\n",
      "4   0.969697\n",
      "Shape of X:  (48000, 1)\n",
      "\n",
      "\n",
      "      winPoints\n",
      "2000        0.0\n",
      "2001     1504.0\n",
      "2002        0.0\n",
      "2003        0.0\n",
      "2004     1483.0\n",
      "Shape of Y:  (48000, 1)\n"
     ]
    }
   ],
   "source": [
    "print(X.head(5))\n",
    "print('Shape of X: ', X.shape)\n",
    "print('\\n')\n",
    "print(Y.head(5))\n",
    "print('Shape of Y: ', Y.shape)"
   ]
  },
  {
   "cell_type": "code",
   "execution_count": 145,
   "metadata": {},
   "outputs": [
    {
     "name": "stdout",
     "output_type": "stream",
     "text": [
      "r2 / variance :  -0.000871632177952919\n",
      "Residual sum of squares: 44587.82\n"
     ]
    }
   ],
   "source": [
    "# Create training and test sets\n",
    "X_train, X_test, y_train, y_test = train_test_split(X, Y, test_size = 0.2, random_state=7)\n",
    "model = LinearRegression()\n",
    "parameters = {'fit_intercept':[True,False], 'normalize':[True,False], 'copy_X':[True, False]}\n",
    "grid = GridSearchCV(model,parameters, cv=10)\n",
    "grid.fit(X_train, y_train)\n",
    "print (\"r2 / variance : \", grid.best_score_)\n",
    "print(\"Residual sum of squares: %.2f\" % np.mean((grid.predict(X_test) - y_test) ** 2))"
   ]
  },
  {
   "cell_type": "code",
   "execution_count": 146,
   "metadata": {},
   "outputs": [
    {
     "name": "stdout",
     "output_type": "stream",
     "text": [
      "No columns to drop.\n"
     ]
    },
    {
     "ename": "KeyError",
     "evalue": "\"['winPoints'] not found in axis\"",
     "output_type": "error",
     "traceback": [
      "\u001b[1;31m---------------------------------------------------------------------------\u001b[0m",
      "\u001b[1;31mKeyError\u001b[0m                                  Traceback (most recent call last)",
      "\u001b[1;32m<ipython-input-146-133e86a70863>\u001b[0m in \u001b[0;36m<module>\u001b[1;34m()\u001b[0m\n\u001b[0;32m      1\u001b[0m \u001b[1;31m#test out the model with test_df:\u001b[0m\u001b[1;33m\u001b[0m\u001b[1;33m\u001b[0m\u001b[0m\n\u001b[1;32m----> 2\u001b[1;33m \u001b[0mx_test\u001b[0m\u001b[1;33m,\u001b[0m \u001b[0my_test\u001b[0m \u001b[1;33m=\u001b[0m \u001b[0mprocess_dataframe\u001b[0m\u001b[1;33m(\u001b[0m\u001b[0mtest_df\u001b[0m\u001b[1;33m)\u001b[0m\u001b[1;33m\u001b[0m\u001b[0m\n\u001b[0m\u001b[0;32m      3\u001b[0m \u001b[0mx_test\u001b[0m \u001b[1;33m=\u001b[0m \u001b[0mprocess_dataframe2\u001b[0m\u001b[1;33m(\u001b[0m\u001b[0mx_test\u001b[0m\u001b[1;33m)\u001b[0m\u001b[1;33m\u001b[0m\u001b[0m\n\u001b[0;32m      4\u001b[0m \u001b[1;31m#print(X_test.head(5))\u001b[0m\u001b[1;33m\u001b[0m\u001b[1;33m\u001b[0m\u001b[0m\n\u001b[0;32m      5\u001b[0m \u001b[0my_pred\u001b[0m \u001b[1;33m=\u001b[0m \u001b[0mgrid\u001b[0m\u001b[1;33m.\u001b[0m\u001b[0mpredict\u001b[0m\u001b[1;33m(\u001b[0m\u001b[0mx_test\u001b[0m\u001b[1;33m)\u001b[0m\u001b[1;33m\u001b[0m\u001b[0m\n",
      "\u001b[1;32m<ipython-input-131-a1828ab06530>\u001b[0m in \u001b[0;36mprocess_dataframe\u001b[1;34m(df)\u001b[0m\n\u001b[0;32m     10\u001b[0m     \u001b[0mfill_NaN\u001b[0m \u001b[1;33m=\u001b[0m \u001b[0mImputer\u001b[0m\u001b[1;33m(\u001b[0m\u001b[0mmissing_values\u001b[0m\u001b[1;33m=\u001b[0m\u001b[0mnp\u001b[0m\u001b[1;33m.\u001b[0m\u001b[0mnan\u001b[0m\u001b[1;33m,\u001b[0m \u001b[0mstrategy\u001b[0m\u001b[1;33m=\u001b[0m\u001b[1;34m'mean'\u001b[0m\u001b[1;33m,\u001b[0m \u001b[0maxis\u001b[0m\u001b[1;33m=\u001b[0m\u001b[1;36m1\u001b[0m\u001b[1;33m)\u001b[0m\u001b[1;33m\u001b[0m\u001b[0m\n\u001b[0;32m     11\u001b[0m \u001b[1;33m\u001b[0m\u001b[0m\n\u001b[1;32m---> 12\u001b[1;33m     \u001b[0mX\u001b[0m \u001b[1;33m=\u001b[0m \u001b[0mdf\u001b[0m\u001b[1;33m.\u001b[0m\u001b[0mdrop\u001b[0m\u001b[1;33m(\u001b[0m\u001b[0mcolumns\u001b[0m\u001b[1;33m=\u001b[0m\u001b[1;33m[\u001b[0m\u001b[1;34m'winPoints'\u001b[0m\u001b[1;33m]\u001b[0m\u001b[1;33m,\u001b[0m\u001b[0maxis\u001b[0m\u001b[1;33m=\u001b[0m\u001b[1;36m1\u001b[0m\u001b[1;33m,\u001b[0m\u001b[0minplace\u001b[0m\u001b[1;33m=\u001b[0m\u001b[1;32mFalse\u001b[0m\u001b[1;33m)\u001b[0m\u001b[1;33m\u001b[0m\u001b[0m\n\u001b[0m\u001b[0;32m     13\u001b[0m     \u001b[0mY\u001b[0m \u001b[1;33m=\u001b[0m \u001b[0mdf\u001b[0m\u001b[1;33m[\u001b[0m\u001b[1;33m[\u001b[0m\u001b[1;34m'winPoints'\u001b[0m\u001b[1;33m]\u001b[0m\u001b[1;33m]\u001b[0m\u001b[1;33m\u001b[0m\u001b[0m\n\u001b[0;32m     14\u001b[0m     \u001b[0mX\u001b[0m \u001b[1;33m=\u001b[0m \u001b[0mpd\u001b[0m\u001b[1;33m.\u001b[0m\u001b[0mDataFrame\u001b[0m\u001b[1;33m(\u001b[0m\u001b[0mfill_NaN\u001b[0m\u001b[1;33m.\u001b[0m\u001b[0mfit_transform\u001b[0m\u001b[1;33m(\u001b[0m\u001b[0mX\u001b[0m\u001b[1;33m)\u001b[0m\u001b[1;33m)\u001b[0m\u001b[1;33m\u001b[0m\u001b[0m\n",
      "\u001b[1;32m~\\Anaconda3\\lib\\site-packages\\pandas\\core\\frame.py\u001b[0m in \u001b[0;36mdrop\u001b[1;34m(self, labels, axis, index, columns, level, inplace, errors)\u001b[0m\n\u001b[0;32m   3695\u001b[0m                                            \u001b[0mindex\u001b[0m\u001b[1;33m=\u001b[0m\u001b[0mindex\u001b[0m\u001b[1;33m,\u001b[0m \u001b[0mcolumns\u001b[0m\u001b[1;33m=\u001b[0m\u001b[0mcolumns\u001b[0m\u001b[1;33m,\u001b[0m\u001b[1;33m\u001b[0m\u001b[0m\n\u001b[0;32m   3696\u001b[0m                                            \u001b[0mlevel\u001b[0m\u001b[1;33m=\u001b[0m\u001b[0mlevel\u001b[0m\u001b[1;33m,\u001b[0m \u001b[0minplace\u001b[0m\u001b[1;33m=\u001b[0m\u001b[0minplace\u001b[0m\u001b[1;33m,\u001b[0m\u001b[1;33m\u001b[0m\u001b[0m\n\u001b[1;32m-> 3697\u001b[1;33m                                            errors=errors)\n\u001b[0m\u001b[0;32m   3698\u001b[0m \u001b[1;33m\u001b[0m\u001b[0m\n\u001b[0;32m   3699\u001b[0m     @rewrite_axis_style_signature('mapper', [('copy', True),\n",
      "\u001b[1;32m~\\Anaconda3\\lib\\site-packages\\pandas\\core\\generic.py\u001b[0m in \u001b[0;36mdrop\u001b[1;34m(self, labels, axis, index, columns, level, inplace, errors)\u001b[0m\n\u001b[0;32m   3109\u001b[0m         \u001b[1;32mfor\u001b[0m \u001b[0maxis\u001b[0m\u001b[1;33m,\u001b[0m \u001b[0mlabels\u001b[0m \u001b[1;32min\u001b[0m \u001b[0maxes\u001b[0m\u001b[1;33m.\u001b[0m\u001b[0mitems\u001b[0m\u001b[1;33m(\u001b[0m\u001b[1;33m)\u001b[0m\u001b[1;33m:\u001b[0m\u001b[1;33m\u001b[0m\u001b[0m\n\u001b[0;32m   3110\u001b[0m             \u001b[1;32mif\u001b[0m \u001b[0mlabels\u001b[0m \u001b[1;32mis\u001b[0m \u001b[1;32mnot\u001b[0m \u001b[1;32mNone\u001b[0m\u001b[1;33m:\u001b[0m\u001b[1;33m\u001b[0m\u001b[0m\n\u001b[1;32m-> 3111\u001b[1;33m                 \u001b[0mobj\u001b[0m \u001b[1;33m=\u001b[0m \u001b[0mobj\u001b[0m\u001b[1;33m.\u001b[0m\u001b[0m_drop_axis\u001b[0m\u001b[1;33m(\u001b[0m\u001b[0mlabels\u001b[0m\u001b[1;33m,\u001b[0m \u001b[0maxis\u001b[0m\u001b[1;33m,\u001b[0m \u001b[0mlevel\u001b[0m\u001b[1;33m=\u001b[0m\u001b[0mlevel\u001b[0m\u001b[1;33m,\u001b[0m \u001b[0merrors\u001b[0m\u001b[1;33m=\u001b[0m\u001b[0merrors\u001b[0m\u001b[1;33m)\u001b[0m\u001b[1;33m\u001b[0m\u001b[0m\n\u001b[0m\u001b[0;32m   3112\u001b[0m \u001b[1;33m\u001b[0m\u001b[0m\n\u001b[0;32m   3113\u001b[0m         \u001b[1;32mif\u001b[0m \u001b[0minplace\u001b[0m\u001b[1;33m:\u001b[0m\u001b[1;33m\u001b[0m\u001b[0m\n",
      "\u001b[1;32m~\\Anaconda3\\lib\\site-packages\\pandas\\core\\generic.py\u001b[0m in \u001b[0;36m_drop_axis\u001b[1;34m(self, labels, axis, level, errors)\u001b[0m\n\u001b[0;32m   3141\u001b[0m                 \u001b[0mnew_axis\u001b[0m \u001b[1;33m=\u001b[0m \u001b[0maxis\u001b[0m\u001b[1;33m.\u001b[0m\u001b[0mdrop\u001b[0m\u001b[1;33m(\u001b[0m\u001b[0mlabels\u001b[0m\u001b[1;33m,\u001b[0m \u001b[0mlevel\u001b[0m\u001b[1;33m=\u001b[0m\u001b[0mlevel\u001b[0m\u001b[1;33m,\u001b[0m \u001b[0merrors\u001b[0m\u001b[1;33m=\u001b[0m\u001b[0merrors\u001b[0m\u001b[1;33m)\u001b[0m\u001b[1;33m\u001b[0m\u001b[0m\n\u001b[0;32m   3142\u001b[0m             \u001b[1;32melse\u001b[0m\u001b[1;33m:\u001b[0m\u001b[1;33m\u001b[0m\u001b[0m\n\u001b[1;32m-> 3143\u001b[1;33m                 \u001b[0mnew_axis\u001b[0m \u001b[1;33m=\u001b[0m \u001b[0maxis\u001b[0m\u001b[1;33m.\u001b[0m\u001b[0mdrop\u001b[0m\u001b[1;33m(\u001b[0m\u001b[0mlabels\u001b[0m\u001b[1;33m,\u001b[0m \u001b[0merrors\u001b[0m\u001b[1;33m=\u001b[0m\u001b[0merrors\u001b[0m\u001b[1;33m)\u001b[0m\u001b[1;33m\u001b[0m\u001b[0m\n\u001b[0m\u001b[0;32m   3144\u001b[0m             \u001b[0mresult\u001b[0m \u001b[1;33m=\u001b[0m \u001b[0mself\u001b[0m\u001b[1;33m.\u001b[0m\u001b[0mreindex\u001b[0m\u001b[1;33m(\u001b[0m\u001b[1;33m**\u001b[0m\u001b[1;33m{\u001b[0m\u001b[0maxis_name\u001b[0m\u001b[1;33m:\u001b[0m \u001b[0mnew_axis\u001b[0m\u001b[1;33m}\u001b[0m\u001b[1;33m)\u001b[0m\u001b[1;33m\u001b[0m\u001b[0m\n\u001b[0;32m   3145\u001b[0m \u001b[1;33m\u001b[0m\u001b[0m\n",
      "\u001b[1;32m~\\Anaconda3\\lib\\site-packages\\pandas\\core\\indexes\\base.py\u001b[0m in \u001b[0;36mdrop\u001b[1;34m(self, labels, errors)\u001b[0m\n\u001b[0;32m   4402\u001b[0m             \u001b[1;32mif\u001b[0m \u001b[0merrors\u001b[0m \u001b[1;33m!=\u001b[0m \u001b[1;34m'ignore'\u001b[0m\u001b[1;33m:\u001b[0m\u001b[1;33m\u001b[0m\u001b[0m\n\u001b[0;32m   4403\u001b[0m                 raise KeyError(\n\u001b[1;32m-> 4404\u001b[1;33m                     '{} not found in axis'.format(labels[mask]))\n\u001b[0m\u001b[0;32m   4405\u001b[0m             \u001b[0mindexer\u001b[0m \u001b[1;33m=\u001b[0m \u001b[0mindexer\u001b[0m\u001b[1;33m[\u001b[0m\u001b[1;33m~\u001b[0m\u001b[0mmask\u001b[0m\u001b[1;33m]\u001b[0m\u001b[1;33m\u001b[0m\u001b[0m\n\u001b[0;32m   4406\u001b[0m         \u001b[1;32mreturn\u001b[0m \u001b[0mself\u001b[0m\u001b[1;33m.\u001b[0m\u001b[0mdelete\u001b[0m\u001b[1;33m(\u001b[0m\u001b[0mindexer\u001b[0m\u001b[1;33m)\u001b[0m\u001b[1;33m\u001b[0m\u001b[0m\n",
      "\u001b[1;31mKeyError\u001b[0m: \"['winPoints'] not found in axis\""
     ]
    }
   ],
   "source": [
    "#test out the model with test_df:\n",
    "x_test, y_test = process_dataframe(test_df)\n",
    "x_test = process_dataframe2(x_test)\n",
    "#print(X_test.head(5))\n",
    "y_pred = grid.predict(x_test)\n",
    "\n",
    "print('Mean Absolute Error:', metrics.mean_absolute_error(y_test, y_pred))  \n",
    "print('Mean Squared Error:', metrics.mean_squared_error(y_test, y_pred))  \n",
    "print('Root Mean Squared Error:', np.sqrt(metrics.mean_squared_error(y_test, y_pred)))"
   ]
  },
  {
   "cell_type": "code",
   "execution_count": 136,
   "metadata": {},
   "outputs": [
    {
     "name": "stdout",
     "output_type": "stream",
     "text": [
      "Tuned ElasticNet Alpha: {'copy_X': True, 'fit_intercept': True, 'normalize': True}\n",
      "Tuned ElasticNet R squared: 0.9925565927784219\n",
      "Wall time: 2.75 s\n"
     ]
    }
   ],
   "source": [
    "%%time\n",
    "# list of steps for pipeline\n",
    "clf = LinearRegression()\n",
    "\n",
    "#define parameter grid:\n",
    "param_grid = {'fit_intercept':[True,False], 'normalize':[True,False], 'copy_X':[True, False]}\n",
    "\n",
    "# Create train and test sets\n",
    "X_train, X_test, y_train, y_test = train_test_split(X, Y, test_size=0.2, random_state=7)\n",
    "\n",
    "# Create the GridSearchCV object: gm_cv\n",
    "gm_cv = GridSearchCV(clf, param_grid=param_grid, cv=10)\n",
    "\n",
    "# Fit to the training set\n",
    "gm_cv.fit(X_train, y_train)\n",
    "\n",
    "# Compute and print the metrics\n",
    "r2 = gm_cv.score(X_test, y_test)\n",
    "print(\"Tuned ElasticNet Alpha: {}\".format(gm_cv.best_params_))\n",
    "print(\"Tuned ElasticNet R squared: {}\".format(r2))"
   ]
  },
  {
   "cell_type": "code",
   "execution_count": 138,
   "metadata": {},
   "outputs": [
    {
     "name": "stdout",
     "output_type": "stream",
     "text": [
      "Processed dataframe, split into X/Y.\n",
      "Mean Absolute Error: 151.68254144116008\n",
      "Mean Squared Error: 32536.73463776058\n",
      "Root Mean Squared Error: 180.3794185536714\n"
     ]
    }
   ],
   "source": [
    "#test out the model with test_df:\n",
    "x_test, y_test = process_dataframe(test_df)\n",
    "x_test = process_dataframe2(x_test)\n",
    "#print(X_test.head(5))\n",
    "y_pred = gm_cv.predict(x_test)\n",
    "\n",
    "print('Mean Absolute Error:', metrics.mean_absolute_error(y_test, y_pred))  \n",
    "print('Mean Squared Error:', metrics.mean_squared_error(y_test, y_pred))  \n",
    "print('Root Mean Squared Error:', np.sqrt(metrics.mean_squared_error(y_test, y_pred)))"
   ]
  },
  {
   "cell_type": "code",
   "execution_count": 44,
   "metadata": {},
   "outputs": [
    {
     "name": "stderr",
     "output_type": "stream",
     "text": [
      "C:\\Users\\Lorenz\\Anaconda3\\lib\\site-packages\\scipy\\stats\\stats.py:1713: FutureWarning: Using a non-tuple sequence for multidimensional indexing is deprecated; use `arr[tuple(seq)]` instead of `arr[seq]`. In the future this will be interpreted as an array index, `arr[np.array(seq)]`, which will result either in an error or a different result.\n",
      "  return np.add.reduce(sorted[indexer] * weights, axis=axis) / sumval\n"
     ]
    },
    {
     "data": {
      "text/plain": [
       "<matplotlib.axes._subplots.AxesSubplot at 0x2748f2b8438>"
      ]
     },
     "execution_count": 44,
     "metadata": {},
     "output_type": "execute_result"
    },
    {
     "data": {
      "image/png": "[encoded data removed]",
      "text/plain": [
       "<Figure size 432x288 with 1 Axes>"
      ]
     },
     "metadata": {
      "needs_background": "light"
     },
     "output_type": "display_data"
    }
   ],
   "source": [
    "short_df = df.iloc[0:100,:]\n",
    "#exclude entries without any killpoints\n",
    "short_df = short_df[short_df['killPoints']>1]\n",
    "sns.regplot(x=\"walkDistance\", y=\"winPoints\", data=short_df)"
   ]
  }
 ],
 "metadata": {
  "kernelspec": {
   "display_name": "Python 3",
   "language": "python",
   "name": "python3"
  },
  "language_info": {
   "codemirror_mode": {
    "name": "ipython",
    "version": 3
   },
   "file_extension": ".py",
   "mimetype": "text/x-python",
   "name": "python",
   "nbconvert_exporter": "python",
   "pygments_lexer": "ipython3",
   "version": "3.7.0"
  }
 },
 "nbformat": 4,
 "nbformat_minor": 2
}
