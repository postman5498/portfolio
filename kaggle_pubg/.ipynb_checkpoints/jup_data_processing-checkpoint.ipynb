{
 "cells": [
  {
   "cell_type": "code",
   "execution_count": 1,
   "metadata": {},
   "outputs": [
    {
     "name": "stdout",
     "output_type": "stream",
     "text": [
      "Lib import check positive ++.\n"
     ]
    }
   ],
   "source": [
    "#!/usr/bin/python\n",
    "import pandas as pd\n",
    "import numpy as np\n",
    "import seaborn as sns\n",
    "import matplotlib.pyplot as plt\n",
    "sns.set(color_codes=True)\n",
    "\n",
    "#import standard ML libs\n",
    "from sklearn.preprocessing import Imputer\n",
    "from sklearn.preprocessing import MinMaxScaler\n",
    "from sklearn.linear_model import LinearRegression\n",
    "from sklearn.model_selection import GridSearchCV\n",
    "from sklearn.pipeline import Pipeline\n",
    "from sklearn.metrics import mean_squared_error\n",
    "from sklearn.model_selection import train_test_split\n",
    "print('Lib import check positive ++.')"
   ]
  },
  {
   "cell_type": "code",
   "execution_count": 68,
   "metadata": {},
   "outputs": [
    {
     "name": "stdout",
     "output_type": "stream",
     "text": [
      "(10000, 28)\n",
      "Wall time: 2.35 s\n"
     ]
    }
   ],
   "source": [
    "%%time\n",
    "df = pd.read_csv('all/test_V2_short.csv',\n",
    "                 dtype={'Id': object,'groupId':object,'matchId':object,'matchType':object},index_col=None)\n",
    "#keep a holdout test set:\n",
    "test_df = df.iloc[0:2000,:]\n",
    "\n",
    "short = True\n",
    "if short:\n",
    "    df = df.iloc[2000:10000,:]\n",
    "else:\n",
    "    pass\n",
    "print(df.shape)\n",
    "\n"
   ]
  },
  {
   "cell_type": "code",
   "execution_count": 73,
   "metadata": {},
   "outputs": [
    {
     "name": "stdout",
     "output_type": "stream",
     "text": [
      "                Id         groupId         matchId  assists  boosts  \\\n",
      "0   9329eb41e215eb  676b23c24e70d6  45b576ab7daa7f      0.0     0.0   \n",
      "1   639bd0dcd7bda8  430933124148dd  42a9a0b906c928      0.0     4.0   \n",
      "2   63d5c8ef8dfe91  0b45f5db20ba99  87e7e4477a048e      1.0     0.0   \n",
      "3   cf5b81422591d1  b7497dbdc77f4a  1b9a94f1af67f1      0.0     0.0   \n",
      "4   ee6a295187ba21  6604ce20a1d230  40754a93016066      0.0     4.0   \n",
      "5   3e2539b5d78183  029b5a79e08cd6  10186f5c852f62      0.0     0.0   \n",
      "6   d812d2f1d88a02  6285bb4eec83e4  f185809740a1a7      0.0     3.0   \n",
      "7   a8a377e4d43bf8  61ec2e7730a3b8  d31adc82a4930e      0.0     0.0   \n",
      "8   f18301e30d47d3  e7d609e08f09b6  bcde504ef16743      0.0     0.0   \n",
      "9   ec7b965ef978b3  c4c19ef6d6c6d9  6dc5b34c92d5ff      0.0     0.0   \n",
      "10  29da9623f0e316  6a47335104d64e  ed3e886148b4e2      1.0     2.0   \n",
      "11  9a7777f1868aba  e7de3c00dd513f  d29026562c5e4b      0.0     0.0   \n",
      "12  aeded11e3d6daa  446f74d14b1bf0  44264bac497867      1.0     0.0   \n",
      "13  2f42b452cf99f7  b0722175ef82c0  7b792d8dfba966      0.0     5.0   \n",
      "14  8ee93e13e67ae9  c9995bee19eff1  7cc3b0fefc45ed      0.0     0.0   \n",
      "\n",
      "    damageDealt  DBNOs  headshotKills  heals  killPlace    ...      \\\n",
      "0         51.46    0.0            0.0    0.0       73.0    ...       \n",
      "1        179.10    0.0            0.0    2.0       11.0    ...       \n",
      "2         23.40    0.0            0.0    4.0       49.0    ...       \n",
      "3         65.52    0.0            0.0    0.0       54.0    ...       \n",
      "4        330.20    1.0            2.0    1.0        7.0    ...       \n",
      "5          0.00    0.0            0.0    0.0       89.0    ...       \n",
      "6        470.70    3.0            2.0   17.0        3.0    ...       \n",
      "7         68.61    0.0            0.0    0.0       73.0    ...       \n",
      "8          0.00    0.0            0.0    0.0       56.0    ...       \n",
      "9         67.32    0.0            0.0    0.0       54.0    ...       \n",
      "10       140.20    0.0            0.0    0.0       33.0    ...       \n",
      "11         0.00    0.0            0.0    0.0       70.0    ...       \n",
      "12       206.80    1.0            1.0    0.0        6.0    ...       \n",
      "13       100.10    1.0            1.0    6.0       26.0    ...       \n",
      "14         0.00    0.0            0.0    0.0       63.0    ...       \n",
      "\n",
      "    rankPoints  revives  rideDistance  roadKills  swimDistance teamKills  \\\n",
      "0       1500.0      0.0           0.0        0.0           0.0       0.0   \n",
      "1       1503.0      2.0        4669.0        0.0           0.0       0.0   \n",
      "2       1565.0      0.0           0.0        0.0           0.0       0.0   \n",
      "3       1465.0      0.0           0.0        0.0           0.0       0.0   \n",
      "4       1480.0      1.0           0.0        0.0           0.0       0.0   \n",
      "5       1490.0      0.0           0.0        0.0           0.0       0.0   \n",
      "6       1538.0      0.0           0.0        0.0           0.0       0.0   \n",
      "7       1487.0      0.0           0.0        0.0           0.0       0.0   \n",
      "8       1640.0      0.0        2355.0        0.0           0.0       0.0   \n",
      "9         -1.0      0.0           0.0        0.0           0.0       0.0   \n",
      "10      1669.0      0.0           0.0        0.0           0.0       0.0   \n",
      "11      1500.0      1.0           0.0        0.0           0.0       0.0   \n",
      "12      1490.0      1.0           0.0        0.0           0.0       1.0   \n",
      "13        -1.0      0.0        5780.0        0.0           0.0       0.0   \n",
      "14        -1.0      0.0           0.0        0.0           0.0       0.0   \n",
      "\n",
      "    vehicleDestroys  walkDistance  weaponsAcquired  winPoints  \n",
      "0               0.0        588.00              1.0        0.0  \n",
      "1               0.0       2017.00              6.0        0.0  \n",
      "2               0.0        787.80              4.0        0.0  \n",
      "3               0.0       1812.00              3.0        0.0  \n",
      "4               0.0       2963.00              4.0        0.0  \n",
      "5               0.0          0.00              0.0        0.0  \n",
      "6               0.0       1000.00              4.0        0.0  \n",
      "7               0.0       1217.00              5.0        0.0  \n",
      "8               0.0       1390.00              7.0        0.0  \n",
      "9               0.0       1634.00              5.0     1495.0  \n",
      "10              0.0        193.10              5.0        0.0  \n",
      "11              0.0       1127.00              5.0        0.0  \n",
      "12              0.0       2971.00              6.0        0.0  \n",
      "13              0.0       1454.00              5.0     1538.0  \n",
      "14              0.0         95.15              2.0     1500.0  \n",
      "\n",
      "[15 rows x 28 columns]\n",
      "Wall time: 19.1 ms\n"
     ]
    }
   ],
   "source": [
    "%%time\n",
    "print(df.head(15))"
   ]
  },
  {
   "cell_type": "code",
   "execution_count": 71,
   "metadata": {},
   "outputs": [
    {
     "name": "stdout",
     "output_type": "stream",
     "text": [
      "Processed dataframe, split into X/Y.\n"
     ]
    }
   ],
   "source": [
    "def process_dataframe(df):\n",
    "    #drop the non-numeric columns for now:\n",
    "    try:\n",
    "        df = df.drop(columns=['Id','groupId','matchId','matchType'])\n",
    "    except:\n",
    "        pass\n",
    "        print('No columns to drop.')\n",
    "    df = df.fillna(df.mean())\n",
    "    df.replace([np.inf, -np.inf], np.nan).dropna(axis=1)\n",
    "    fill_NaN = Imputer(missing_values=np.nan, strategy='mean', axis=1)\n",
    "\n",
    "    X = df.drop(columns=['winPoints'],axis=1,inplace=False)\n",
    "    Y = df[['winPoints']]\n",
    "    X = pd.DataFrame(fill_NaN.fit_transform(X))\n",
    "    list_columns = list(df.columns)\n",
    "    del list_columns[-1]\n",
    "    X.columns = list_columns\n",
    "    X.index = df.index\n",
    "    print('Processed dataframe, split into X/Y.')\n",
    "    \n",
    "    scaler = MinMaxScaler()\n",
    "    X = scaler.fit_transform((X))\n",
    "    X = pd.DataFrame(X)\n",
    "    X.columns = list_columns\n",
    "    return X,Y\n",
    "X,Y = process_dataframe(df)"
   ]
  },
  {
   "cell_type": "code",
   "execution_count": 74,
   "metadata": {},
   "outputs": [
    {
     "name": "stdout",
     "output_type": "stream",
     "text": [
      "   assists    boosts  damageDealt     DBNOs  headshotKills    heals  \\\n",
      "0      0.0  0.000000     0.029289  0.000000       0.000000  0.00000   \n",
      "1      0.0  0.307692     0.101935  0.000000       0.000000  0.06250   \n",
      "2      0.1  0.000000     0.013318  0.000000       0.000000  0.12500   \n",
      "3      0.0  0.000000     0.037291  0.000000       0.000000  0.00000   \n",
      "4      0.0  0.307692     0.187934  0.083333       0.166667  0.03125   \n",
      "\n",
      "   killPlace  killPoints   kills  killStreaks       ...         numGroups  \\\n",
      "0   0.727273         0.0  0.0000     0.000000       ...          0.275510   \n",
      "1   0.101010         0.0  0.1250     0.111111       ...          0.469388   \n",
      "2   0.484848         0.0  0.0000     0.000000       ...          0.265306   \n",
      "3   0.535354         0.0  0.0000     0.000000       ...          0.438776   \n",
      "4   0.060606         0.0  0.1875     0.111111       ...          0.265306   \n",
      "\n",
      "   rankPoints  revives  rideDistance  roadKills  swimDistance  teamKills  \\\n",
      "0    0.551838     0.00      0.000000        0.0           0.0        0.0   \n",
      "1    0.552941     0.50      0.245737        0.0           0.0        0.0   \n",
      "2    0.575735     0.00      0.000000        0.0           0.0        0.0   \n",
      "3    0.538971     0.00      0.000000        0.0           0.0        0.0   \n",
      "4    0.544485     0.25      0.000000        0.0           0.0        0.0   \n",
      "\n",
      "   vehicleDestroys  walkDistance  weaponsAcquired  \n",
      "0              0.0      0.053455         0.013158  \n",
      "1              0.0      0.183364         0.078947  \n",
      "2              0.0      0.071618         0.052632  \n",
      "3              0.0      0.164727         0.039474  \n",
      "4              0.0      0.269364         0.052632  \n",
      "\n",
      "[5 rows x 23 columns]\n",
      "Shape of X:  (10000, 23)\n",
      "\n",
      "\n",
      "   winPoints\n",
      "0        0.0\n",
      "1        0.0\n",
      "2        0.0\n",
      "3        0.0\n",
      "4        0.0\n",
      "Shape of Y:  (10000, 1)\n"
     ]
    }
   ],
   "source": [
    "print(X.head(5))\n",
    "print('Shape of X: ', X.shape)\n",
    "print('\\n')\n",
    "print(Y.head(5))\n",
    "print('Shape of Y: ', Y.shape)"
   ]
  },
  {
   "cell_type": "code",
   "execution_count": 75,
   "metadata": {},
   "outputs": [
    {
     "name": "stdout",
     "output_type": "stream",
     "text": [
      "r2 / variance :  0.9915686393735678\n",
      "Residual sum of squares: 2469.37\n"
     ]
    }
   ],
   "source": [
    "# Create training and test sets\n",
    "X_train, X_test, y_train, y_test = train_test_split(X, Y, test_size = 0.2, random_state=7)\n",
    "model = LinearRegression()\n",
    "parameters = {'fit_intercept':[True,False], 'normalize':[True,False], 'copy_X':[True, False]}\n",
    "grid = GridSearchCV(model,parameters, cv=10)\n",
    "grid.fit(X_train, y_train)\n",
    "print (\"r2 / variance : \", grid.best_score_)\n",
    "print(\"Residual sum of squares: %.2f\" % np.mean((grid.predict(X_test) - y_test) ** 2))"
   ]
  },
  {
   "cell_type": "code",
   "execution_count": 76,
   "metadata": {},
   "outputs": [
    {
     "name": "stdout",
     "output_type": "stream",
     "text": [
      "        Id groupId matchId  assists  boosts  damageDealt  DBNOs  \\\n",
      "50000  NaN     NaN     NaN      NaN     NaN          NaN    NaN   \n",
      "50001  NaN     NaN     NaN      NaN     NaN          NaN    NaN   \n",
      "50002  NaN     NaN     NaN      NaN     NaN          NaN    NaN   \n",
      "50003  NaN     NaN     NaN      NaN     NaN          NaN    NaN   \n",
      "50004  NaN     NaN     NaN      NaN     NaN          NaN    NaN   \n",
      "\n",
      "       headshotKills  heals  killPlace    ...      rankPoints  revives  \\\n",
      "50000            NaN    NaN        NaN    ...             NaN      NaN   \n",
      "50001            NaN    NaN        NaN    ...             NaN      NaN   \n",
      "50002            NaN    NaN        NaN    ...             NaN      NaN   \n",
      "50003            NaN    NaN        NaN    ...             NaN      NaN   \n",
      "50004            NaN    NaN        NaN    ...             NaN      NaN   \n",
      "\n",
      "       rideDistance  roadKills  swimDistance teamKills  vehicleDestroys  \\\n",
      "50000           NaN        NaN           NaN       NaN              NaN   \n",
      "50001           NaN        NaN           NaN       NaN              NaN   \n",
      "50002           NaN        NaN           NaN       NaN              NaN   \n",
      "50003           NaN        NaN           NaN       NaN              NaN   \n",
      "50004           NaN        NaN           NaN       NaN              NaN   \n",
      "\n",
      "       walkDistance  weaponsAcquired  winPoints  \n",
      "50000           NaN              NaN        NaN  \n",
      "50001           NaN              NaN        NaN  \n",
      "50002           NaN              NaN        NaN  \n",
      "50003           NaN              NaN        NaN  \n",
      "50004           NaN              NaN        NaN  \n",
      "\n",
      "[5 rows x 28 columns]\n"
     ]
    }
   ],
   "source": [
    "#test out the model with test_df:\n",
    "print(test_df.head(5))\n",
    "#X_test, Y_test = process_dataframe(test_df)"
   ]
  },
  {
   "cell_type": "code",
   "execution_count": 53,
   "metadata": {},
   "outputs": [
    {
     "name": "stdout",
     "output_type": "stream",
     "text": [
      "Tuned ElasticNet Alpha: {'copy_X': True, 'fit_intercept': True, 'normalize': False}\n",
      "Tuned ElasticNet R squared: 0.9926369337649474\n",
      "Wall time: 1.1 s\n"
     ]
    }
   ],
   "source": [
    "%%time\n",
    "# list of steps for pipeline\n",
    "clf = LinearRegression()\n",
    "\n",
    "#define parameter grid:\n",
    "param_grid = {'fit_intercept':[True,False], 'normalize':[True,False], 'copy_X':[True, False]}\n",
    "\n",
    "# Create train and test sets\n",
    "X_train, X_test, y_train, y_test = train_test_split(X, Y, test_size=0.2, random_state=7)\n",
    "\n",
    "# Create the GridSearchCV object: gm_cv\n",
    "gm_cv = GridSearchCV(clf, param_grid=param_grid, cv=10)\n",
    "\n",
    "# Fit to the training set\n",
    "gm_cv.fit(X_train, y_train)\n",
    "\n",
    "# Compute and print the metrics\n",
    "r2 = gm_cv.score(X_test, y_test)\n",
    "print(\"Tuned ElasticNet Alpha: {}\".format(gm_cv.best_params_))\n",
    "print(\"Tuned ElasticNet R squared: {}\".format(r2))"
   ]
  },
  {
   "cell_type": "code",
   "execution_count": 44,
   "metadata": {},
   "outputs": [
    {
     "name": "stderr",
     "output_type": "stream",
     "text": [
      "C:\\Users\\Lorenz\\Anaconda3\\lib\\site-packages\\scipy\\stats\\stats.py:1713: FutureWarning: Using a non-tuple sequence for multidimensional indexing is deprecated; use `arr[tuple(seq)]` instead of `arr[seq]`. In the future this will be interpreted as an array index, `arr[np.array(seq)]`, which will result either in an error or a different result.\n",
      "  return np.add.reduce(sorted[indexer] * weights, axis=axis) / sumval\n"
     ]
    },
    {
     "data": {
      "text/plain": [
       "<matplotlib.axes._subplots.AxesSubplot at 0x2748f2b8438>"
      ]
     },
     "execution_count": 44,
     "metadata": {},
     "output_type": "execute_result"
    },
    {
     "data": {
      "image/png": "[encoded data removed]",
      "text/plain": [
       "<Figure size 432x288 with 1 Axes>"
      ]
     },
     "metadata": {
      "needs_background": "light"
     },
     "output_type": "display_data"
    }
   ],
   "source": [
    "short_df = df.iloc[0:100,:]\n",
    "#exclude entries without any killpoints\n",
    "short_df = short_df[short_df['killPoints']>1]\n",
    "sns.regplot(x=\"walkDistance\", y=\"winPoints\", data=short_df)"
   ]
  }
 ],
 "metadata": {
  "kernelspec": {
   "display_name": "Python 3",
   "language": "python",
   "name": "python3"
  },
  "language_info": {
   "codemirror_mode": {
    "name": "ipython",
    "version": 3
   },
   "file_extension": ".py",
   "mimetype": "text/x-python",
   "name": "python",
   "nbconvert_exporter": "python",
   "pygments_lexer": "ipython3",
   "version": "3.7.0"
  }
 },
 "nbformat": 4,
 "nbformat_minor": 2
}
