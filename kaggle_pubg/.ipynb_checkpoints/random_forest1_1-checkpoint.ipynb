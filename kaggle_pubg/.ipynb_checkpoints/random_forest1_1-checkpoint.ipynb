{
 "cells": [
  {
   "cell_type": "code",
   "execution_count": 112,
   "metadata": {},
   "outputs": [
    {
     "name": "stdout",
     "output_type": "stream",
     "text": [
      "Lib import check positive ++.\n"
     ]
    }
   ],
   "source": [
    "#!/usr/bin/python\n",
    "import pandas as pd\n",
    "import numpy as np\n",
    "import seaborn as sns\n",
    "import matplotlib.pyplot as plt\n",
    "sns.set(color_codes=True)\n",
    "\n",
    "#import standard ML libs\n",
    "from sklearn.preprocessing import Imputer\n",
    "from sklearn.preprocessing import MinMaxScaler\n",
    "from sklearn.linear_model import LinearRegression\n",
    "from sklearn.model_selection import GridSearchCV\n",
    "from sklearn.pipeline import Pipeline\n",
    "from sklearn.metrics import mean_squared_error\n",
    "from sklearn.metrics import mean_absolute_error\n",
    "from sklearn.model_selection import train_test_split\n",
    "from sklearn import metrics\n",
    "from sklearn.ensemble import RandomForestRegressor\n",
    "from sklearn.datasets import make_regression\n",
    "print('Lib import check positive ++.')"
   ]
  },
  {
   "cell_type": "code",
   "execution_count": 118,
   "metadata": {},
   "outputs": [
    {
     "name": "stdout",
     "output_type": "stream",
     "text": [
      "Wall time: 1.99 s\n"
     ]
    }
   ],
   "source": [
    "%%time\n",
    "train = pd.read_csv('all/test_V2_short.csv',\n",
    "                 dtype={'Id': object,'groupId':object,'matchId':object,'matchType':object},index_col=None)\n",
    "\n",
    "# Take sample for debugging and exploration\n",
    "sample = 50000\n",
    "df_sample = train.iloc[0:sample,:]\n",
    "\n",
    "test_sample = sample + 3000\n",
    "test_df = train.iloc[50000:53000,:]"
   ]
  },
  {
   "cell_type": "code",
   "execution_count": 119,
   "metadata": {},
   "outputs": [
    {
     "name": "stdout",
     "output_type": "stream",
     "text": [
      "(50000, 28) (3000, 28)\n"
     ]
    }
   ],
   "source": [
    "print(df_sample.shape, test_df.shape)"
   ]
  },
  {
   "cell_type": "code",
   "execution_count": 120,
   "metadata": {},
   "outputs": [
    {
     "name": "stdout",
     "output_type": "stream",
     "text": [
      "               Id         groupId         matchId  assists  boosts  \\\n",
      "0  9329eb41e215eb  676b23c24e70d6  45b576ab7daa7f      0.0     0.0   \n",
      "1  639bd0dcd7bda8  430933124148dd  42a9a0b906c928      0.0     4.0   \n",
      "2  63d5c8ef8dfe91  0b45f5db20ba99  87e7e4477a048e      1.0     0.0   \n",
      "3  cf5b81422591d1  b7497dbdc77f4a  1b9a94f1af67f1      0.0     0.0   \n",
      "4  ee6a295187ba21  6604ce20a1d230  40754a93016066      0.0     4.0   \n",
      "\n",
      "   damageDealt  DBNOs  headshotKills  heals  killPlace    ...      rankPoints  \\\n",
      "0        51.46    0.0            0.0    0.0       73.0    ...          1500.0   \n",
      "1       179.10    0.0            0.0    2.0       11.0    ...          1503.0   \n",
      "2        23.40    0.0            0.0    4.0       49.0    ...          1565.0   \n",
      "3        65.52    0.0            0.0    0.0       54.0    ...          1465.0   \n",
      "4       330.20    1.0            2.0    1.0        7.0    ...          1480.0   \n",
      "\n",
      "   revives  rideDistance  roadKills  swimDistance teamKills  vehicleDestroys  \\\n",
      "0      0.0           0.0        0.0           0.0       0.0              0.0   \n",
      "1      2.0        4669.0        0.0           0.0       0.0              0.0   \n",
      "2      0.0           0.0        0.0           0.0       0.0              0.0   \n",
      "3      0.0           0.0        0.0           0.0       0.0              0.0   \n",
      "4      1.0           0.0        0.0           0.0       0.0              0.0   \n",
      "\n",
      "   walkDistance  weaponsAcquired  winPoints  \n",
      "0         588.0              1.0        0.0  \n",
      "1        2017.0              6.0        0.0  \n",
      "2         787.8              4.0        0.0  \n",
      "3        1812.0              3.0        0.0  \n",
      "4        2963.0              4.0        0.0  \n",
      "\n",
      "[5 rows x 28 columns]\n",
      "        Id groupId matchId  assists  boosts  damageDealt  DBNOs  \\\n",
      "50000  NaN     NaN     NaN      NaN     NaN          NaN    NaN   \n",
      "50001  NaN     NaN     NaN      NaN     NaN          NaN    NaN   \n",
      "50002  NaN     NaN     NaN      NaN     NaN          NaN    NaN   \n",
      "50003  NaN     NaN     NaN      NaN     NaN          NaN    NaN   \n",
      "50004  NaN     NaN     NaN      NaN     NaN          NaN    NaN   \n",
      "\n",
      "       headshotKills  heals  killPlace    ...      rankPoints  revives  \\\n",
      "50000            NaN    NaN        NaN    ...             NaN      NaN   \n",
      "50001            NaN    NaN        NaN    ...             NaN      NaN   \n",
      "50002            NaN    NaN        NaN    ...             NaN      NaN   \n",
      "50003            NaN    NaN        NaN    ...             NaN      NaN   \n",
      "50004            NaN    NaN        NaN    ...             NaN      NaN   \n",
      "\n",
      "       rideDistance  roadKills  swimDistance teamKills  vehicleDestroys  \\\n",
      "50000           NaN        NaN           NaN       NaN              NaN   \n",
      "50001           NaN        NaN           NaN       NaN              NaN   \n",
      "50002           NaN        NaN           NaN       NaN              NaN   \n",
      "50003           NaN        NaN           NaN       NaN              NaN   \n",
      "50004           NaN        NaN           NaN       NaN              NaN   \n",
      "\n",
      "       walkDistance  weaponsAcquired  winPoints  \n",
      "50000           NaN              NaN        NaN  \n",
      "50001           NaN              NaN        NaN  \n",
      "50002           NaN              NaN        NaN  \n",
      "50003           NaN              NaN        NaN  \n",
      "50004           NaN              NaN        NaN  \n",
      "\n",
      "[5 rows x 28 columns]\n"
     ]
    }
   ],
   "source": [
    "print(df_sample.head(5))\n",
    "print(test_df.head(5))"
   ]
  },
  {
   "cell_type": "code",
   "execution_count": 105,
   "metadata": {},
   "outputs": [
    {
     "name": "stdout",
     "output_type": "stream",
     "text": [
      "   assists  boosts  damageDealt  DBNOs  headshotKills  heals  killPlace  \\\n",
      "0      0.0     0.0        51.46    0.0            0.0    0.0       73.0   \n",
      "1      0.0     4.0       179.10    0.0            0.0    2.0       11.0   \n",
      "2      1.0     0.0        23.40    0.0            0.0    4.0       49.0   \n",
      "3      0.0     0.0        65.52    0.0            0.0    0.0       54.0   \n",
      "4      0.0     4.0       330.20    1.0            2.0    1.0        7.0   \n",
      "\n",
      "   killPoints  kills  killStreaks    ...      rankPoints  revives  \\\n",
      "0         0.0    0.0          0.0    ...          1500.0      0.0   \n",
      "1         0.0    2.0          1.0    ...          1503.0      2.0   \n",
      "2         0.0    0.0          0.0    ...          1565.0      0.0   \n",
      "3         0.0    0.0          0.0    ...          1465.0      0.0   \n",
      "4         0.0    3.0          1.0    ...          1480.0      1.0   \n",
      "\n",
      "   rideDistance  roadKills  swimDistance  teamKills  vehicleDestroys  \\\n",
      "0           0.0        0.0           0.0        0.0              0.0   \n",
      "1        4669.0        0.0           0.0        0.0              0.0   \n",
      "2           0.0        0.0           0.0        0.0              0.0   \n",
      "3           0.0        0.0           0.0        0.0              0.0   \n",
      "4           0.0        0.0           0.0        0.0              0.0   \n",
      "\n",
      "   walkDistance  weaponsAcquired  winPoints  \n",
      "0         588.0              1.0        0.0  \n",
      "1        2017.0              6.0        0.0  \n",
      "2         787.8              4.0        0.0  \n",
      "3        1812.0              3.0        0.0  \n",
      "4        2963.0              4.0        0.0  \n",
      "\n",
      "[5 rows x 24 columns]\n"
     ]
    }
   ],
   "source": [
    "def clean_data (df, cols_to_drop):\n",
    "    cols_to_fit = [col for col in df.columns if col not in cols_to_drop]\n",
    "    df = df[cols_to_fit]\n",
    "    return df\n",
    "\n",
    "cols_to_drop = ['Id', 'groupId', 'matchId', 'matchType']\n",
    "train = clean_data(df_sample,cols_to_drop)\n",
    "print(train.head(5))\n",
    "\n",
    "test_df = clean_data(test_df,cols_to_drop)"
   ]
  },
  {
   "cell_type": "code",
   "execution_count": 106,
   "metadata": {},
   "outputs": [
    {
     "name": "stdout",
     "output_type": "stream",
     "text": [
      "   assists  boosts  damageDealt  DBNOs  headshotKills  heals  killPlace  \\\n",
      "0      0.0     0.0        51.46    0.0            0.0    0.0       73.0   \n",
      "1      0.0     4.0       179.10    0.0            0.0    2.0       11.0   \n",
      "2      1.0     0.0        23.40    0.0            0.0    4.0       49.0   \n",
      "3      0.0     0.0        65.52    0.0            0.0    0.0       54.0   \n",
      "4      0.0     4.0       330.20    1.0            2.0    1.0        7.0   \n",
      "\n",
      "   killPoints  kills  killStreaks      ...       revives  rideDistance  \\\n",
      "0         0.0    0.0          0.0      ...           0.0           0.0   \n",
      "1         0.0    2.0          1.0      ...           2.0        4669.0   \n",
      "2         0.0    0.0          0.0      ...           0.0           0.0   \n",
      "3         0.0    0.0          0.0      ...           0.0           0.0   \n",
      "4         0.0    3.0          1.0      ...           1.0           0.0   \n",
      "\n",
      "   roadKills  swimDistance  teamKills  vehicleDestroys  walkDistance  \\\n",
      "0        0.0           0.0        0.0              0.0         588.0   \n",
      "1        0.0           0.0        0.0              0.0        2017.0   \n",
      "2        0.0           0.0        0.0              0.0         787.8   \n",
      "3        0.0           0.0        0.0              0.0        1812.0   \n",
      "4        0.0           0.0        0.0              0.0        2963.0   \n",
      "\n",
      "   weaponsAcquired  winPoints  headshotRate  \n",
      "0              1.0        0.0      0.000000  \n",
      "1              6.0        0.0      0.000000  \n",
      "2              4.0        0.0      0.000000  \n",
      "3              3.0        0.0      0.000000  \n",
      "4              4.0        0.0      0.666667  \n",
      "\n",
      "[5 rows x 25 columns]\n"
     ]
    },
    {
     "name": "stderr",
     "output_type": "stream",
     "text": [
      "C:\\Users\\Lorenz\\Anaconda3\\lib\\site-packages\\ipykernel_launcher.py:3: SettingWithCopyWarning: \n",
      "A value is trying to be set on a copy of a slice from a DataFrame.\n",
      "Try using .loc[row_indexer,col_indexer] = value instead\n",
      "\n",
      "See the caveats in the documentation: http://pandas.pydata.org/pandas-docs/stable/indexing.html#indexing-view-versus-copy\n",
      "  This is separate from the ipykernel package so we can avoid doing imports until\n",
      "C:\\Users\\Lorenz\\Anaconda3\\lib\\site-packages\\ipykernel_launcher.py:4: SettingWithCopyWarning: \n",
      "A value is trying to be set on a copy of a slice from a DataFrame.\n",
      "Try using .loc[row_indexer,col_indexer] = value instead\n",
      "\n",
      "See the caveats in the documentation: http://pandas.pydata.org/pandas-docs/stable/indexing.html#indexing-view-versus-copy\n",
      "  after removing the cwd from sys.path.\n"
     ]
    }
   ],
   "source": [
    "#add the headshot rate as additional column:\n",
    "def add_headshot_rate(train):\n",
    "    train['headshotRate'] = train['headshotKills'] / train['kills']\n",
    "    train['headshotRate'] = train['headshotRate'].fillna(0)\n",
    "    return train\n",
    "train = add_headshot_rate(train)\n",
    "print(train.head(5))\n",
    "\n",
    "test_df = add_headshot_rate(test_df)"
   ]
  },
  {
   "cell_type": "code",
   "execution_count": 108,
   "metadata": {},
   "outputs": [],
   "source": [
    "#remove all the cheaters:\n",
    "def remove_cheaters(train):\n",
    "    train = train.loc[~((train['longestKill'] > 1000) & (train['kills'] > 5)),]\n",
    "    train = train.loc[~((train['weaponsAcquired'] > 30) & (train['kills'] > 10)),]\n",
    "    return train\n",
    "train = remove_cheaters(train)\n",
    "test_df = remove_cheaters(test_df)"
   ]
  },
  {
   "cell_type": "code",
   "execution_count": 90,
   "metadata": {},
   "outputs": [
    {
     "data": {
      "image/png": "[encoded data removed]",
      "text/plain": [
       "<Figure size 648x504 with 2 Axes>"
      ]
     },
     "metadata": {},
     "output_type": "display_data"
    }
   ],
   "source": [
    "#add some correlation matrix to it\n",
    "corr = clean_df.corr()\n",
    "plt.figure(figsize=(9,7))\n",
    "sns.heatmap(\n",
    "    corr,\n",
    "    xticklabels=corr.columns.values,\n",
    "    yticklabels=corr.columns.values,\n",
    "    linecolor='white',\n",
    "    linewidths=0.1,\n",
    "    cmap=\"RdBu\"\n",
    ")\n",
    "plt.show()"
   ]
  },
  {
   "cell_type": "code",
   "execution_count": 100,
   "metadata": {},
   "outputs": [
    {
     "name": "stdout",
     "output_type": "stream",
     "text": [
      "             index      assists       boosts  damageDealt        DBNOs  \\\n",
      "count  3543.000000  3543.000000  3543.000000  3543.000000  3543.000000   \n",
      "mean   3001.714649     0.207169     1.120237   126.276271     0.647192   \n",
      "std    1745.138029     0.535561     1.728361   161.530515     1.130526   \n",
      "min       0.000000     0.000000     0.000000     0.000000     0.000000   \n",
      "25%    1488.000000     0.000000     0.000000     0.000000     0.000000   \n",
      "50%    3011.000000     0.000000     0.000000    80.420000     0.000000   \n",
      "75%    4513.500000     0.000000     2.000000   179.100000     1.000000   \n",
      "max    5997.000000     5.000000    13.000000  1317.000000    12.000000   \n",
      "\n",
      "       headshotKills        heals    killPlace  killPoints        kills  \\\n",
      "count    3543.000000  3543.000000  3543.000000      3543.0  3543.000000   \n",
      "mean        0.236240     1.439176    47.539091         0.0     0.921535   \n",
      "std         0.599564     2.838224    27.591961         0.0     1.483790   \n",
      "min         0.000000     0.000000     1.000000         0.0     0.000000   \n",
      "25%         0.000000     0.000000    24.000000         0.0     0.000000   \n",
      "50%         0.000000     0.000000    47.000000         0.0     0.000000   \n",
      "75%         0.000000     2.000000    71.000000         0.0     1.000000   \n",
      "max         6.000000    32.000000   100.000000         0.0    12.000000   \n",
      "\n",
      "           ...        rankPoints      revives  rideDistance    roadKills  \\\n",
      "count      ...       3543.000000  3543.000000   3543.000000  3543.000000   \n",
      "mean       ...       1493.619531     0.159752    633.603046     0.004798   \n",
      "std        ...         89.574748     0.454472   1582.495712     0.083876   \n",
      "min        ...        100.000000     0.000000      0.000000     0.000000   \n",
      "25%        ...       1465.000000     0.000000      0.000000     0.000000   \n",
      "50%        ...       1496.000000     0.000000      0.000000     0.000000   \n",
      "75%        ...       1512.000000     0.000000     45.250000     0.000000   \n",
      "max        ...       2719.000000     4.000000  19000.000000     3.000000   \n",
      "\n",
      "       swimDistance    teamKills  vehicleDestroys  walkDistance  \\\n",
      "count   3543.000000  3543.000000      3543.000000   3543.000000   \n",
      "mean       5.032715     0.025684         0.007903   1157.550082   \n",
      "std       35.604588     0.170248         0.091691   1207.935133   \n",
      "min        0.000000     0.000000         0.000000      0.000000   \n",
      "25%        0.000000     0.000000         0.000000    146.900000   \n",
      "50%        0.000000     0.000000         0.000000    684.700000   \n",
      "75%        0.000000     0.000000         0.000000   1962.000000   \n",
      "max      711.300000     2.000000         2.000000  11000.000000   \n",
      "\n",
      "       weaponsAcquired  headshotRate  \n",
      "count      3543.000000   3543.000000  \n",
      "mean          3.622918      0.108857  \n",
      "std           2.674314      0.268457  \n",
      "min           0.000000      0.000000  \n",
      "25%           2.000000      0.000000  \n",
      "50%           3.000000      0.000000  \n",
      "75%           5.000000      0.000000  \n",
      "max          76.000000      1.000000  \n",
      "\n",
      "[8 rows x 25 columns]\n",
      "       index  assists  boosts  damageDealt  DBNOs  headshotKills  heals  \\\n",
      "count    0.0      0.0     0.0          0.0    0.0            0.0    0.0   \n",
      "mean     NaN      NaN     NaN          NaN    NaN            NaN    NaN   \n",
      "std      NaN      NaN     NaN          NaN    NaN            NaN    NaN   \n",
      "min      NaN      NaN     NaN          NaN    NaN            NaN    NaN   \n",
      "25%      NaN      NaN     NaN          NaN    NaN            NaN    NaN   \n",
      "50%      NaN      NaN     NaN          NaN    NaN            NaN    NaN   \n",
      "75%      NaN      NaN     NaN          NaN    NaN            NaN    NaN   \n",
      "max      NaN      NaN     NaN          NaN    NaN            NaN    NaN   \n",
      "\n",
      "       killPlace  killPoints  kills      ...       rankPoints  revives  \\\n",
      "count        0.0         0.0    0.0      ...              0.0      0.0   \n",
      "mean         NaN         NaN    NaN      ...              NaN      NaN   \n",
      "std          NaN         NaN    NaN      ...              NaN      NaN   \n",
      "min          NaN         NaN    NaN      ...              NaN      NaN   \n",
      "25%          NaN         NaN    NaN      ...              NaN      NaN   \n",
      "50%          NaN         NaN    NaN      ...              NaN      NaN   \n",
      "75%          NaN         NaN    NaN      ...              NaN      NaN   \n",
      "max          NaN         NaN    NaN      ...              NaN      NaN   \n",
      "\n",
      "       rideDistance  roadKills  swimDistance  teamKills  vehicleDestroys  \\\n",
      "count           0.0        0.0           0.0        0.0              0.0   \n",
      "mean            NaN        NaN           NaN        NaN              NaN   \n",
      "std             NaN        NaN           NaN        NaN              NaN   \n",
      "min             NaN        NaN           NaN        NaN              NaN   \n",
      "25%             NaN        NaN           NaN        NaN              NaN   \n",
      "50%             NaN        NaN           NaN        NaN              NaN   \n",
      "75%             NaN        NaN           NaN        NaN              NaN   \n",
      "max             NaN        NaN           NaN        NaN              NaN   \n",
      "\n",
      "       walkDistance  weaponsAcquired  headshotRate  \n",
      "count           0.0              0.0           0.0  \n",
      "mean            NaN              NaN           NaN  \n",
      "std             NaN              NaN           NaN  \n",
      "min             NaN              NaN           NaN  \n",
      "25%             NaN              NaN           NaN  \n",
      "50%             NaN              NaN           NaN  \n",
      "75%             NaN              NaN           NaN  \n",
      "max             NaN              NaN           NaN  \n",
      "\n",
      "[8 rows x 25 columns]\n"
     ]
    }
   ],
   "source": [
    "def labels_features(train):\n",
    "    #remove the rankpoints lower than 0:\n",
    "    train = train[train['rankPoints']>0]\n",
    "    #remove all NaNs:\n",
    "    train.replace([np.inf, -np.inf], np.nan).dropna(how=\"all\")\n",
    "    train = train.reset_index()\n",
    "    labels = train[['winPoints']]\n",
    "    features = train.drop(['winPoints'], axis=1)\n",
    "    print(features.describe())\n",
    "    return labels,features\n",
    "labels, features = labels_features(train)\n",
    "\n",
    "X_test,y_test = labels_features(test_df)"
   ]
  },
  {
   "cell_type": "code",
   "execution_count": 109,
   "metadata": {},
   "outputs": [
    {
     "name": "stdout",
     "output_type": "stream",
     "text": [
      "       assists  boosts  damageDealt  DBNOs  headshotKills  heals  killPlace  \\\n",
      "50000      NaN     NaN          NaN    NaN            NaN    NaN        NaN   \n",
      "50001      NaN     NaN          NaN    NaN            NaN    NaN        NaN   \n",
      "50002      NaN     NaN          NaN    NaN            NaN    NaN        NaN   \n",
      "50003      NaN     NaN          NaN    NaN            NaN    NaN        NaN   \n",
      "50004      NaN     NaN          NaN    NaN            NaN    NaN        NaN   \n",
      "\n",
      "       killPoints  kills  killStreaks      ...       revives  rideDistance  \\\n",
      "50000         NaN    NaN          NaN      ...           NaN           NaN   \n",
      "50001         NaN    NaN          NaN      ...           NaN           NaN   \n",
      "50002         NaN    NaN          NaN      ...           NaN           NaN   \n",
      "50003         NaN    NaN          NaN      ...           NaN           NaN   \n",
      "50004         NaN    NaN          NaN      ...           NaN           NaN   \n",
      "\n",
      "       roadKills  swimDistance  teamKills  vehicleDestroys  walkDistance  \\\n",
      "50000        NaN           NaN        NaN              NaN           NaN   \n",
      "50001        NaN           NaN        NaN              NaN           NaN   \n",
      "50002        NaN           NaN        NaN              NaN           NaN   \n",
      "50003        NaN           NaN        NaN              NaN           NaN   \n",
      "50004        NaN           NaN        NaN              NaN           NaN   \n",
      "\n",
      "       weaponsAcquired  winPoints  headshotRate  \n",
      "50000              NaN        NaN           0.0  \n",
      "50001              NaN        NaN           0.0  \n",
      "50002              NaN        NaN           0.0  \n",
      "50003              NaN        NaN           0.0  \n",
      "50004              NaN        NaN           0.0  \n",
      "\n",
      "[5 rows x 25 columns]\n"
     ]
    }
   ],
   "source": [
    "print(test_df.head(5))"
   ]
  },
  {
   "cell_type": "code",
   "execution_count": 92,
   "metadata": {},
   "outputs": [
    {
     "name": "stderr",
     "output_type": "stream",
     "text": [
      "C:\\Users\\Lorenz\\Anaconda3\\lib\\site-packages\\ipykernel_launcher.py:2: DataConversionWarning: A column-vector y was passed when a 1d array was expected. Please change the shape of y to (n_samples,), for example using ravel().\n",
      "  \n"
     ]
    },
    {
     "data": {
      "text/plain": [
       "RandomForestRegressor(bootstrap=True, criterion='mse', max_depth=None,\n",
       "           max_features=0.5, max_leaf_nodes=None,\n",
       "           min_impurity_decrease=0.0, min_impurity_split=None,\n",
       "           min_samples_leaf=3, min_samples_split=2,\n",
       "           min_weight_fraction_leaf=0.0, n_estimators=50, n_jobs=-1,\n",
       "           oob_score=False, random_state=1937, verbose=0, warm_start=False)"
      ]
     },
     "execution_count": 92,
     "metadata": {},
     "output_type": "execute_result"
    }
   ],
   "source": [
    "RFmodel = RandomForestRegressor(n_estimators=50, random_state=1937, n_jobs=-1, min_samples_leaf=3, max_features=0.5)\n",
    "RFmodel.fit(features, labels)"
   ]
  },
  {
   "cell_type": "code",
   "execution_count": null,
   "metadata": {},
   "outputs": [],
   "source": [
    "y_test = RFmodel.predict(X)\n",
    "mean_absolute_error(y_true, y_pred)"
   ]
  }
 ],
 "metadata": {
  "kernelspec": {
   "display_name": "Python 3",
   "language": "python",
   "name": "python3"
  },
  "language_info": {
   "codemirror_mode": {
    "name": "ipython",
    "version": 3
   },
   "file_extension": ".py",
   "mimetype": "text/x-python",
   "name": "python",
   "nbconvert_exporter": "python",
   "pygments_lexer": "ipython3",
   "version": "3.7.0"
  }
 },
 "nbformat": 4,
 "nbformat_minor": 2
}
