{
 "cells": [
  {
   "cell_type": "code",
   "execution_count": 1,
   "metadata": {
    "_cell_guid": "b1076dfc-b9ad-4769-8c92-a6c4dae69d19",
    "_uuid": "8f2839f25d086af736a60e9eeb907d3b93b6e0e5"
   },
   "outputs": [
    {
     "ename": "FileNotFoundError",
     "evalue": "[WinError 3] The system cannot find the path specified: '../input'",
     "output_type": "error",
     "traceback": [
      "\u001b[1;31m---------------------------------------------------------------------------\u001b[0m",
      "\u001b[1;31mFileNotFoundError\u001b[0m                         Traceback (most recent call last)",
      "\u001b[1;32m<ipython-input-1-25ef9f99c7c6>\u001b[0m in \u001b[0;36m<module>\u001b[1;34m()\u001b[0m\n\u001b[0;32m      2\u001b[0m \u001b[1;33m\u001b[0m\u001b[0m\n\u001b[0;32m      3\u001b[0m \u001b[1;32mimport\u001b[0m \u001b[0mos\u001b[0m\u001b[1;33m\u001b[0m\u001b[0m\n\u001b[1;32m----> 4\u001b[1;33m \u001b[0mprint\u001b[0m\u001b[1;33m(\u001b[0m\u001b[0mos\u001b[0m\u001b[1;33m.\u001b[0m\u001b[0mlistdir\u001b[0m\u001b[1;33m(\u001b[0m\u001b[1;34m\"../input\"\u001b[0m\u001b[1;33m)\u001b[0m\u001b[1;33m)\u001b[0m\u001b[1;33m\u001b[0m\u001b[0m\n\u001b[0m\u001b[0;32m      5\u001b[0m \u001b[1;33m\u001b[0m\u001b[0m\n\u001b[0;32m      6\u001b[0m \u001b[1;32mimport\u001b[0m \u001b[0mpandas\u001b[0m \u001b[1;32mas\u001b[0m \u001b[0mpd\u001b[0m\u001b[1;33m\u001b[0m\u001b[0m\n",
      "\u001b[1;31mFileNotFoundError\u001b[0m: [WinError 3] The system cannot find the path specified: '../input'"
     ]
    }
   ],
   "source": [
    "#!/usr/bin/python\n",
    "\n",
    "import os\n",
    "print(os.listdir(\"../input\"))\n",
    "\n",
    "import pandas as pd\n",
    "import numpy as np\n",
    "import seaborn as sns\n",
    "import matplotlib.pyplot as plt\n",
    "sns.set(color_codes=True)\n",
    "import pickle\n",
    "\n",
    "#import standard ML libraries\n",
    "from sklearn.preprocessing import Imputer\n",
    "from sklearn.preprocessing import MinMaxScaler\n",
    "from sklearn.preprocessing import StandardScaler\n",
    "from sklearn.linear_model import LinearRegression\n",
    "from sklearn.model_selection import GridSearchCV\n",
    "from sklearn.model_selection import train_test_split\n",
    "from sklearn.pipeline import Pipeline\n",
    "\n",
    "from sklearn import metrics\n",
    "from sklearn.metrics import confusion_matrix\n",
    "from sklearn.metrics import classification_report\n",
    "from sklearn.metrics import mean_squared_error\n",
    "from sklearn.metrics import roc_auc_score\n",
    "from sklearn.metrics import roc_curve\n",
    "from sklearn.metrics import auc\n",
    "from sklearn.utils.multiclass import unique_labels\n",
    "#import specific classifiers\n",
    "from sklearn.ensemble import RandomForestClassifier\n",
    "\n",
    "#keras NN libraries:\n",
    "import keras\n",
    "from keras.models import Sequential\n",
    "from keras.layers import Dense, Activation, Dropout, Flatten, BatchNormalization\n",
    "from tensorflow.python.keras.callbacks import EarlyStopping\n",
    "import h5py\n",
    "\n",
    "\n",
    "print('Lib import check positive ++.')\n",
    "\n",
    "# Any results you write to the current directory are saved as output."
   ]
  },
  {
   "cell_type": "code",
   "execution_count": 46,
   "metadata": {
    "_cell_guid": "79c7e3d0-c299-4dcb-8224-4455121ee9b0",
    "_uuid": "d629ff2d2480ee46fbb7e2d37f6b5fab8052498a"
   },
   "outputs": [
    {
     "name": "stdout",
     "output_type": "stream",
     "text": [
      "Test data : (200000, 201)\n",
      "Train data : (200000, 202)\n",
      "Target : (200000, 2)\n"
     ]
    }
   ],
   "source": [
    "test_data = pd.read_csv('../input/test.csv')\n",
    "print(\"Test data :\", test_data.shape)\n",
    "train_data = pd.read_csv('../input/train.csv')\n",
    "print(\"Train data :\", train_data.shape)\n",
    "target = pd.read_csv('../input/sample_submission.csv')\n",
    "print(\"Target :\", target.shape)"
   ]
  },
  {
   "cell_type": "code",
   "execution_count": 47,
   "metadata": {
    "_uuid": "b4ea3663dc6cdfdaa6e4fa4bc82294b52c1e680c",
    "scrolled": true
   },
   "outputs": [
    {
     "name": "stdout",
     "output_type": "stream",
     "text": [
      "   ID_code  target    var_0   var_1   ...     var_196  var_197  var_198  var_199\n",
      "0  train_0       0   8.9255 -6.7863   ...      7.8784   8.5635  12.7803  -1.0914\n",
      "1  train_1       0  11.5006 -4.1473   ...      8.1267   8.7889  18.3560   1.9518\n",
      "2  train_2       0   8.6093 -2.7457   ...     -6.5213   8.2675  14.7222   0.3965\n",
      "3  train_3       0  11.0604 -2.1518   ...     -2.9275  10.2922  17.9697  -8.9996\n",
      "4  train_4       0   9.8369 -1.4834   ...      3.9267   9.5031  17.9974  -8.8104\n",
      "\n",
      "[5 rows x 202 columns]\n"
     ]
    }
   ],
   "source": [
    "#check a sample output of first few rows:\n",
    "print(train_data.head(5))"
   ]
  },
  {
   "cell_type": "code",
   "execution_count": 48,
   "metadata": {
    "_uuid": "224d0b1794e6bfe33538f75ad447cce75a9ef87e"
   },
   "outputs": [],
   "source": [
    "def data_target_split (df):\n",
    "    X = df.iloc[:,2:].values\n",
    "    y = df.iloc[:,1].values\n",
    "    return X, y\n",
    "X, y = data_target_split(train_data)\n",
    "#select the right part of the final test data\n",
    "test_data = test_data.iloc[:,1:].values"
   ]
  },
  {
   "cell_type": "code",
   "execution_count": 49,
   "metadata": {
    "_uuid": "0156dfe2d4389b8b0b91e6e52327a501d6148823"
   },
   "outputs": [],
   "source": [
    "X_train, X_test, y_train, y_test = train_test_split(X, y, test_size = 0.25, random_state = 329)"
   ]
  },
  {
   "cell_type": "code",
   "execution_count": 50,
   "metadata": {
    "_uuid": "5e249287a65cddc88f54aee8b22f00deab366099"
   },
   "outputs": [
    {
     "data": {
      "text/plain": [
       "((150000, 200), (150000,))"
      ]
     },
     "execution_count": 50,
     "metadata": {},
     "output_type": "execute_result"
    }
   ],
   "source": [
    "#scale the X_train with Min Max scaler:\n",
    "scaler = StandardScaler()\n",
    "scaler.fit(X_train)\n",
    "X_tr_scaled = scaler.transform(X_train)\n",
    "X_tst_scaled = scaler.transform(X_test)\n",
    "\n",
    "#check the output shapes:\n",
    "X_train.shape, y_train.shape"
   ]
  },
  {
   "cell_type": "code",
   "execution_count": 52,
   "metadata": {
    "_uuid": "0cc0341e4b0217716afe9b54e29c725f5bcaea63"
   },
   "outputs": [
    {
     "name": "stdout",
     "output_type": "stream",
     "text": [
      "_________________________________________________________________\n",
      "Layer (type)                 Output Shape              Param #   \n",
      "=================================================================\n",
      "dense_11 (Dense)             (None, 200)               40200     \n",
      "_________________________________________________________________\n",
      "activation_9 (Activation)    (None, 200)               0         \n",
      "_________________________________________________________________\n",
      "dropout_7 (Dropout)          (None, 200)               0         \n",
      "_________________________________________________________________\n",
      "dense_12 (Dense)             (None, 100)               20100     \n",
      "_________________________________________________________________\n",
      "activation_10 (Activation)   (None, 100)               0         \n",
      "_________________________________________________________________\n",
      "dropout_8 (Dropout)          (None, 100)               0         \n",
      "_________________________________________________________________\n",
      "dense_13 (Dense)             (None, 50)                5050      \n",
      "_________________________________________________________________\n",
      "activation_11 (Activation)   (None, 50)                0         \n",
      "_________________________________________________________________\n",
      "dense_14 (Dense)             (None, 1)                 51        \n",
      "=================================================================\n",
      "Total params: 65,401\n",
      "Trainable params: 65,401\n",
      "Non-trainable params: 0\n",
      "_________________________________________________________________\n",
      "None\n"
     ]
    }
   ],
   "source": [
    "def make_model(input_dim = 200):\n",
    "    model = Sequential()\n",
    "    #input \n",
    "    model.add(Dense(200, input_dim=input_dim))\n",
    "    model.add(Activation(\"relu\"))\n",
    "    model.add(Dropout(0.2))\n",
    "    #1 \n",
    "    model.add(Dense(100))\n",
    "    model.add(Activation(\"relu\"))\n",
    "    model.add(Dropout(0.2))\n",
    "    #3\n",
    "    model.add(Dense(50))\n",
    "    model.add(Activation(\"tanh\"))\n",
    "    #output\n",
    "    model.add(Dense(1, activation = 'sigmoid'))\n",
    "    model.compile(loss=\"binary_crossentropy\", optimizer=\"sgd\", metrics=[\"accuracy\"])\n",
    "    print(model.summary())\n",
    "    return model\n",
    "model = make_model()"
   ]
  },
  {
   "cell_type": "code",
   "execution_count": 54,
   "metadata": {
    "_uuid": "43a8d7d37a6191b3b7e5e885fc6d2ea160adf067"
   },
   "outputs": [
    {
     "name": "stdout",
     "output_type": "stream",
     "text": [
      "Train on 120000 samples, validate on 30000 samples\n",
      "Epoch 1/70\n",
      " - 2s - loss: 0.2677 - acc: 0.9045 - val_loss: 0.2593 - val_acc: 0.9023\n",
      "Epoch 2/70\n",
      " - 2s - loss: 0.2633 - acc: 0.9052 - val_loss: 0.2566 - val_acc: 0.9040\n",
      "Epoch 3/70\n",
      " - 2s - loss: 0.2611 - acc: 0.9055 - val_loss: 0.2547 - val_acc: 0.9049\n",
      "Epoch 4/70\n",
      " - 2s - loss: 0.2584 - acc: 0.9065 - val_loss: 0.2542 - val_acc: 0.9054\n",
      "Epoch 5/70\n",
      " - 2s - loss: 0.2564 - acc: 0.9063 - val_loss: 0.2519 - val_acc: 0.9063\n",
      "Epoch 6/70\n",
      " - 2s - loss: 0.2548 - acc: 0.9071 - val_loss: 0.2507 - val_acc: 0.9062\n",
      "Epoch 7/70\n",
      " - 2s - loss: 0.2531 - acc: 0.9068 - val_loss: 0.2508 - val_acc: 0.9063\n",
      "Epoch 8/70\n",
      " - 2s - loss: 0.2515 - acc: 0.9076 - val_loss: 0.2498 - val_acc: 0.9067\n",
      "Epoch 9/70\n",
      " - 2s - loss: 0.2505 - acc: 0.9079 - val_loss: 0.2491 - val_acc: 0.9070\n",
      "Epoch 10/70\n",
      " - 2s - loss: 0.2495 - acc: 0.9081 - val_loss: 0.2488 - val_acc: 0.9072\n",
      "Epoch 11/70\n",
      " - 2s - loss: 0.2481 - acc: 0.9088 - val_loss: 0.2484 - val_acc: 0.9072\n",
      "Epoch 12/70\n",
      " - 2s - loss: 0.2478 - acc: 0.9086 - val_loss: 0.2480 - val_acc: 0.9074\n",
      "Epoch 13/70\n",
      " - 2s - loss: 0.2481 - acc: 0.9083 - val_loss: 0.2478 - val_acc: 0.9076\n",
      "Epoch 14/70\n",
      " - 2s - loss: 0.2471 - acc: 0.9085 - val_loss: 0.2475 - val_acc: 0.9078\n",
      "Epoch 15/70\n",
      " - 2s - loss: 0.2459 - acc: 0.9086 - val_loss: 0.2472 - val_acc: 0.9079\n",
      "Epoch 16/70\n",
      " - 2s - loss: 0.2459 - acc: 0.9091 - val_loss: 0.2470 - val_acc: 0.9080\n",
      "Epoch 17/70\n",
      " - 2s - loss: 0.2453 - acc: 0.9089 - val_loss: 0.2468 - val_acc: 0.9080\n",
      "Epoch 18/70\n",
      " - 2s - loss: 0.2449 - acc: 0.9090 - val_loss: 0.2467 - val_acc: 0.9079\n",
      "Epoch 19/70\n",
      " - 2s - loss: 0.2438 - acc: 0.9098 - val_loss: 0.2464 - val_acc: 0.9082\n",
      "Epoch 20/70\n",
      " - 2s - loss: 0.2430 - acc: 0.9098 - val_loss: 0.2460 - val_acc: 0.9083\n",
      "Epoch 21/70\n",
      " - 2s - loss: 0.2427 - acc: 0.9102 - val_loss: 0.2460 - val_acc: 0.9084\n",
      "Epoch 22/70\n",
      " - 2s - loss: 0.2425 - acc: 0.9104 - val_loss: 0.2461 - val_acc: 0.9085\n",
      "Epoch 23/70\n",
      " - 2s - loss: 0.2426 - acc: 0.9105 - val_loss: 0.2462 - val_acc: 0.9083\n",
      "Epoch 24/70\n",
      " - 2s - loss: 0.2417 - acc: 0.9101 - val_loss: 0.2458 - val_acc: 0.9087\n",
      "Epoch 25/70\n",
      " - 2s - loss: 0.2419 - acc: 0.9103 - val_loss: 0.2459 - val_acc: 0.9088\n",
      "Epoch 26/70\n",
      " - 2s - loss: 0.2413 - acc: 0.9107 - val_loss: 0.2455 - val_acc: 0.9087\n",
      "Epoch 27/70\n",
      " - 2s - loss: 0.2416 - acc: 0.9107 - val_loss: 0.2455 - val_acc: 0.9087\n",
      "Epoch 28/70\n",
      " - 2s - loss: 0.2409 - acc: 0.9100 - val_loss: 0.2453 - val_acc: 0.9088\n",
      "Epoch 29/70\n",
      " - 2s - loss: 0.2405 - acc: 0.9106 - val_loss: 0.2454 - val_acc: 0.9089\n",
      "Epoch 30/70\n",
      " - 2s - loss: 0.2397 - acc: 0.9109 - val_loss: 0.2456 - val_acc: 0.9088\n",
      "Epoch 31/70\n",
      " - 2s - loss: 0.2403 - acc: 0.9107 - val_loss: 0.2452 - val_acc: 0.9089\n",
      "Epoch 32/70\n",
      " - 2s - loss: 0.2405 - acc: 0.9107 - val_loss: 0.2449 - val_acc: 0.9090\n",
      "Epoch 33/70\n",
      " - 2s - loss: 0.2392 - acc: 0.9107 - val_loss: 0.2449 - val_acc: 0.9092\n",
      "Epoch 34/70\n",
      " - 2s - loss: 0.2389 - acc: 0.9119 - val_loss: 0.2448 - val_acc: 0.9094\n",
      "Epoch 35/70\n",
      " - 2s - loss: 0.2397 - acc: 0.9106 - val_loss: 0.2445 - val_acc: 0.9096\n",
      "Epoch 36/70\n",
      " - 2s - loss: 0.2382 - acc: 0.9108 - val_loss: 0.2447 - val_acc: 0.9094\n",
      "Epoch 37/70\n",
      " - 2s - loss: 0.2382 - acc: 0.9114 - val_loss: 0.2449 - val_acc: 0.9094\n",
      "Epoch 38/70\n",
      " - 2s - loss: 0.2372 - acc: 0.9115 - val_loss: 0.2450 - val_acc: 0.9094\n",
      "Epoch 39/70\n",
      " - 2s - loss: 0.2374 - acc: 0.9114 - val_loss: 0.2446 - val_acc: 0.9098\n",
      "Epoch 40/70\n",
      " - 2s - loss: 0.2382 - acc: 0.9116 - val_loss: 0.2448 - val_acc: 0.9091\n",
      "Epoch 00040: early stopping\n"
     ]
    }
   ],
   "source": [
    "earlystopper = EarlyStopping(patience=5, verbose=1)\n",
    "history = model.fit(X_tr_scaled, y_train, batch_size=350, epochs=70, validation_split=0.2, verbose=2, callbacks=[earlystopper])"
   ]
  },
  {
   "cell_type": "code",
   "execution_count": 55,
   "metadata": {
    "_uuid": "72424964d0445ef1007ff1d22dae1d09735bcef1"
   },
   "outputs": [
    {
     "name": "stdout",
     "output_type": "stream",
     "text": [
      "50000/50000 [==============================] - 1s 21us/step\n",
      "accuracy for test data: 91.19%\n"
     ]
    },
    {
     "data": {
      "image/png": "[encoded data removed]",
      "text/plain": [
       "<Figure size 432x288 with 1 Axes>"
      ]
     },
     "metadata": {},
     "output_type": "display_data"
    }
   ],
   "source": [
    "scores = model.evaluate(X_tst_scaled, y_test, verbose=1)\n",
    "print(\"accuracy for test data: %.2f%%\" % (scores[1]*100))\n",
    "plt.plot(history.history['acc'], label='accuracy for train data')\n",
    "plt.plot(history.history['val_acc'], label='validation data accuracy')\n",
    "plt.xlabel('epochs')\n",
    "plt.ylabel('accuracy')\n",
    "plt.legend()\n",
    "plt.show()"
   ]
  },
  {
   "cell_type": "code",
   "execution_count": 60,
   "metadata": {
    "_uuid": "a72b17704148936dfd5696b573402421c0751720"
   },
   "outputs": [
    {
     "data": {
      "text/plain": [
       "0.8491341223991729"
      ]
     },
     "execution_count": 60,
     "metadata": {},
     "output_type": "execute_result"
    }
   ],
   "source": [
    "pred_y = model.predict(X_tst_scaled)\n",
    "roc_auc_score(y_test, pred_y)"
   ]
  },
  {
   "cell_type": "code",
   "execution_count": 62,
   "metadata": {
    "_uuid": "97f9229329734816413b57222c88987b1a5c25da"
   },
   "outputs": [
    {
     "name": "stdout",
     "output_type": "stream",
     "text": [
      "Version : 1_0xx200:100:50\n",
      "======> Saved model to filename: 1_0xx200:100:50.h5\n"
     ]
    }
   ],
   "source": [
    "version = \"1_0xx200:100:50\"\n",
    "print(\"Version :\", version)\n",
    "def save_model(model, model_filename):\n",
    "    # save the model to file:\n",
    "    model.save(model_filename)\n",
    "    print(\"======> Saved model to filename: {filename}\".format(filename=model_filename))\n",
    "model_filename = \"{version}.h5\".format(version=version)\n",
    "save_model(model=model, model_filename=model_filename)"
   ]
  },
  {
   "cell_type": "code",
   "execution_count": null,
   "metadata": {
    "_uuid": "b2f561bf08927d17a9b58332fe8d9dde8c9e59ca"
   },
   "outputs": [],
   "source": [
    "y_pred_t = model.predict(test_data)\n",
    "target['target'] = y_pred_t\n",
    "target.to_csv('submission.csv', index=False)"
   ]
  }
 ],
 "metadata": {
  "kernelspec": {
   "display_name": "Python 3",
   "language": "python",
   "name": "python3"
  },
  "language_info": {
   "codemirror_mode": {
    "name": "ipython",
    "version": 3
   },
   "file_extension": ".py",
   "mimetype": "text/x-python",
   "name": "python",
   "nbconvert_exporter": "python",
   "pygments_lexer": "ipython3",
   "version": "3.7.0"
  }
 },
 "nbformat": 4,
 "nbformat_minor": 1
}
